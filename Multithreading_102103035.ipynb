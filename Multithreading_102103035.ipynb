{
 "cells": [
  {
   "cell_type": "code",
   "execution_count": 12,
   "id": "080063b0",
   "metadata": {},
   "outputs": [],
   "source": [
    "import time\n",
    "import threading\n",
    "import numpy as np\n",
    "import pandas as pd\n",
    "import matplotlib.pyplot as plt"
   ]
  },
  {
   "cell_type": "code",
   "execution_count": 13,
   "id": "e0883cf9",
   "metadata": {},
   "outputs": [],
   "source": [
    "def multiply_matrices(matrix, constant_matrix, result, start, end):\n",
    "    for i in range(start, end):\n",
    "        result[i] = np.dot(matrix[i], constant_matrix)\n",
    "\n",
    "def generate_random_matrices(size):\n",
    "    return [np.random.rand(size, size) for _ in range(100)]"
   ]
  },
  {
   "cell_type": "code",
   "execution_count": 16,
   "id": "ec2f9653",
   "metadata": {},
   "outputs": [],
   "source": [
    "def main():\n",
    "    matrix_size = 1000\n",
    "    constant_matrix = np.random.rand(matrix_size, matrix_size)\n",
    "    random_matrices = generate_random_matrices(matrix_size)\n",
    "    num_threads_list = [ 2, 4, 6, 8, 10, 12, 14, 16, 18, 20, 22, 24]\n",
    "    time_taken = []\n",
    "\n",
    "    for num_threads in num_threads_list:\n",
    "        start_time = time.time()\n",
    "\n",
    "        threads = []\n",
    "        results = [None] * len(random_matrices)\n",
    "\n",
    "        for i in range(num_threads):\n",
    "            start_index = i * (len(random_matrices) // num_threads)\n",
    "            end_index = (i + 1) * (len(random_matrices) // num_threads) if i != num_threads - 1 else len(random_matrices)\n",
    "            thread = threading.Thread(target=multiply_matrices,\n",
    "                                      args=(random_matrices, constant_matrix, results, start_index, end_index))\n",
    "            threads.append(thread)\n",
    "            thread.start()\n",
    "\n",
    "        for thread in threads:\n",
    "            thread.join()\n",
    "\n",
    "        end_time = time.time()\n",
    "        time_taken.append(end_time - start_time)\n",
    "\n",
    "    data = {\"Number of Threads\": num_threads_list, \"Time Taken (s)\": time_taken}\n",
    "    df = pd.DataFrame(data)\n",
    "    print(df)\n",
    "\n",
    "    plt.plot(num_threads_list, time_taken, marker='o')\n",
    "    plt.title(\"Time vs Number of Threads\")\n",
    "    plt.xlabel(\"Number of Threads\")\n",
    "    plt.ylabel(\"Time Taken (s)\")\n",
    "    plt.xticks(np.arange(0, 25, step=2))\n",
    "    plt.grid(True)\n",
    "    plt.show()"
   ]
  },
  {
   "cell_type": "code",
   "execution_count": 15,
   "id": "64297d90",
   "metadata": {},
   "outputs": [
    {
     "name": "stdout",
     "output_type": "stream",
     "text": [
      "    Number of Threads  Time Taken (s)\n",
      "0                   2        1.590138\n",
      "1                   4        1.312521\n",
      "2                   6        1.368981\n",
      "3                   8        1.284195\n",
      "4                  10        1.262705\n",
      "5                  12        1.320168\n",
      "6                  14        1.346023\n",
      "7                  16        1.430843\n",
      "8                  18        1.406551\n",
      "9                  20        1.338357\n",
      "10                 22        1.411645\n",
      "11                 24        1.334820\n"
     ]
    },
    {
     "data": {
      "image/png": "[encoded data removed]",
      "text/plain": [
       "<Figure size 432x288 with 1 Axes>"
      ]
     },
     "metadata": {
      "needs_background": "light"
     },
     "output_type": "display_data"
    }
   ],
   "source": [
    "if __name__ == \"__main__\":\n",
    "    main()"
   ]
  },
  {
   "cell_type": "code",
   "execution_count": null,
   "id": "017e0090",
   "metadata": {},
   "outputs": [],
   "source": []
  }
 ],
 "metadata": {
  "kernelspec": {
   "display_name": "Python 3 (ipykernel)",
   "language": "python",
   "name": "python3"
  },
  "language_info": {
   "codemirror_mode": {
    "name": "ipython",
    "version": 3
   },
   "file_extension": ".py",
   "mimetype": "text/x-python",
   "name": "python",
   "nbconvert_exporter": "python",
   "pygments_lexer": "ipython3",
   "version": "3.9.12"
  }
 },
 "nbformat": 4,
 "nbformat_minor": 5
}
